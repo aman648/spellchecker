{
 "cells": [
  {
   "cell_type": "code",
   "execution_count": 1,
   "id": "f6a08656",
   "metadata": {},
   "outputs": [],
   "source": [
    "from tkinter import *"
   ]
  },
  {
   "cell_type": "code",
   "execution_count": 3,
   "id": "5020df0f",
   "metadata": {},
   "outputs": [],
   "source": [
    "from textblob import TextBlob\n"
   ]
  },
  {
   "cell_type": "code",
   "execution_count": 14,
   "id": "d7551eb2",
   "metadata": {},
   "outputs": [
    {
     "name": "stdout",
     "output_type": "stream",
     "text": [
      "[('god', 0.3704081632653061), ('word', 0.3040816326530612), ('won', 0.20510204081632652), ('wood', 0.08979591836734693), ('rod', 0.01020408163265306), ('nod', 0.00816326530612245), ('cod', 0.006122448979591836), ('wad', 0.0020408163265306124), ('woe', 0.0010204081632653062), ('wo', 0.0010204081632653062), ('wid', 0.0010204081632653062), ('wed', 0.0010204081632653062)]\n",
      "[('spelling', 1.0)]\n",
      "[('tint', 0.6470588235294118), ('taint', 0.29411764705882354), ('tints', 0.058823529411764705)]\n",
      "[('jupiter', 1.0)]\n"
     ]
    }
   ],
   "source": [
    "from textblob import Word\n",
    "root=Tk()\n",
    "\n",
    "\n",
    "def getsentiment():\n",
    "    text=e.get()\n",
    "    word=Word(text)\n",
    "    r=word.spellcheck()\n",
    "    print(r)\n",
    "    Label(root,width=100,text=r[0]).pack()\n",
    "e=Entry(root,width=100)\n",
    "e.pack()\n",
    "b=Button(root,text=\"sumit\",command=getsentiment)\n",
    "b.pack()\n",
    "\n",
    "\n",
    "root.mainloop()"
   ]
  },
  {
   "cell_type": "code",
   "execution_count": null,
   "id": "0f930cae",
   "metadata": {},
   "outputs": [],
   "source": []
  },
  {
   "cell_type": "code",
   "execution_count": null,
   "id": "dbc5ebaf",
   "metadata": {},
   "outputs": [],
   "source": []
  }
 ],
 "metadata": {
  "kernelspec": {
   "display_name": "Python 3 (ipykernel)",
   "language": "python",
   "name": "python3"
  },
  "language_info": {
   "codemirror_mode": {
    "name": "ipython",
    "version": 3
   },
   "file_extension": ".py",
   "mimetype": "text/x-python",
   "name": "python",
   "nbconvert_exporter": "python",
   "pygments_lexer": "ipython3",
   "version": "3.9.4"
  }
 },
 "nbformat": 4,
 "nbformat_minor": 5
}
